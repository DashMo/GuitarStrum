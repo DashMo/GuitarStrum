{
 "cells": [
  {
   "cell_type": "code",
   "execution_count": 56,
   "metadata": {},
   "outputs": [],
   "source": [
    "#import necessary libraries\n",
    "import requests\n",
    "from requests_html import HTMLSession\n",
    "from requests_html import AsyncHTMLSession\n",
    "from bs4 import BeautifulSoup\n",
    "import pprint\n",
    "import numpy as np"
   ]
  },
  {
   "cell_type": "code",
   "execution_count": 7,
   "metadata": {},
   "outputs": [],
   "source": [
    "url1 = 'https://tabs.ultimate-guitar.com/tab/misc-soundtrack/a-star-is-born-shallow-chords-2488086'\n",
    "url2 = 'https://tabs.ultimate-guitar.com/tab/jeff-buckley/hallelujah-chords-198052'\n",
    "asession = AsyncHTMLSession() #creates Async object\n",
    "\n",
    "r = await asession.get(url2,timeout=20) #requests website from server and waits for response\n",
    "#r.html.render(timeout=20)\n",
    "site = await r.html.arender(timeout=20) #renders in case there is javascript\n",
    "\n",
    "soup = BeautifulSoup(r.html.html, features='lxml') #creates BeautifulSoup object which will parse the html\n",
    "body = soup.find(class_='js-page js-global-wrapper') #finds main body of website which contains the strum patterns\n",
    "patterns = body.find_all(class_='_2u0o0') #every strum pattern is within a class called '_2u0o0'\n"
   ]
  },
  {
   "cell_type": "code",
   "execution_count": 8,
   "metadata": {},
   "outputs": [
    {
     "data": {
      "text/plain": [
       "[<div class=\"_31jmH _2xk1x _1yupz _1i6F0\"></div>,\n",
       " <div class=\"_31jmH _2xk1x\"></div>,\n",
       " <div class=\"_31jmH _2xk1x _1yupz\"></div>,\n",
       " <div class=\"_31jmH _2xk1x _3N-at _1i6F0\"></div>,\n",
       " <div class=\"_31jmH _2xk1x _1yupz\"></div>,\n",
       " <div class=\"_31jmH _2xk1x _3N-at\"></div>,\n",
       " <div class=\"_31jmH _2xk1x _1yupz _1i6F0\"></div>,\n",
       " <div class=\"_31jmH _2xk1x\"></div>,\n",
       " <div class=\"_31jmH _2xk1x _1yupz\"></div>,\n",
       " <div class=\"_31jmH _2xk1x _3N-at _1i6F0\"></div>,\n",
       " <div class=\"_31jmH _2xk1x _1yupz\"></div>,\n",
       " <div class=\"_31jmH _2xk1x _3N-at\"></div>]"
      ]
     },
     "execution_count": 8,
     "metadata": {},
     "output_type": "execute_result"
    }
   ],
   "source": [
    "patterns[0].contents"
   ]
  },
  {
   "cell_type": "markdown",
   "metadata": {},
   "source": [
    "By cross checking with the website, I've determined that the classes that have '_1yupz' are downstrums, the classes that have '_3N-at' are downstrums, and the classes that have neither of those are beats you don't strum on"
   ]
  },
  {
   "cell_type": "code",
   "execution_count": 45,
   "metadata": {},
   "outputs": [
    {
     "name": "stdout",
     "output_type": "stream",
     "text": [
      "3\n",
      "<class 'bs4.element.ResultSet'>\n",
      "<class 'list_iterator'>\n",
      "<class 'bs4.element.Tag'>\n",
      "<class 'list'>\n",
      "['_31jmH', '_2xk1x', '_1yupz', '_1i6F0']\n"
     ]
    }
   ],
   "source": [
    "print(len(patterns)) #the song I'm testing with has 3 strum patterns so this list should hold three Tags\n",
    "print(type(patterns)) #confirming that patterns is a list/ResultSet\n",
    "print(type(patterns[0].children)) #checking the type for the children of the Tag\n",
    "print(type(next(patterns[0].children))) \n",
    "print(type(next(patterns[0].children)['class']))\n",
    "print(next(patterns[0].children)['class'])#Returns class string as a list\n"
   ]
  },
  {
   "cell_type": "code",
   "execution_count": 69,
   "metadata": {},
   "outputs": [
    {
     "name": "stdout",
     "output_type": "stream",
     "text": [
      "['_31jmH', '_2xk1x', '_1yupz', '_1i6F0']\n",
      "['_31jmH', '_2xk1x']\n",
      "['_31jmH', '_2xk1x', '_1yupz']\n",
      "['_31jmH', '_2xk1x', '_3N-at', '_1i6F0']\n",
      "['_31jmH', '_2xk1x', '_1yupz']\n",
      "['_31jmH', '_2xk1x', '_3N-at']\n",
      "['_31jmH', '_2xk1x', '_1yupz', '_1i6F0']\n",
      "['_31jmH', '_2xk1x']\n",
      "['_31jmH', '_2xk1x', '_1yupz']\n",
      "['_31jmH', '_2xk1x', '_3N-at', '_1i6F0']\n",
      "['_31jmH', '_2xk1x', '_1yupz']\n",
      "['_31jmH', '_2xk1x', '_3N-at']\n",
      "Integer Pattern: [1, 0, 1, 2, 1, 2, 1, 0, 1, 2, 1, 2]\n",
      "\n",
      "['_31jmH', '_2xk1x', '_1yupz']\n",
      "['_31jmH', '_2xk1x']\n",
      "['_31jmH', '_2xk1x']\n",
      "['_31jmH', '_2xk1x', '_1yupz']\n",
      "['_31jmH', '_2xk1x']\n",
      "['_31jmH', '_2xk1x', '_3N-at']\n",
      "['_31jmH', '_2xk1x', '_1yupz']\n",
      "['_31jmH', '_2xk1x']\n",
      "['_31jmH', '_2xk1x']\n",
      "['_31jmH', '_2xk1x', '_1yupz']\n",
      "['_31jmH', '_2xk1x']\n",
      "['_31jmH', '_2xk1x', '_3N-at']\n",
      "Integer Pattern: [1, 0, 0, 1, 0, 2, 1, 0, 0, 1, 0, 2]\n",
      "\n",
      "['_31jmH', '_2xk1x', '_1yupz']\n",
      "['_31jmH', '_2xk1x']\n",
      "['_31jmH', '_2xk1x', '_3N-at']\n",
      "['_31jmH', '_2xk1x', '_1yupz']\n",
      "['_31jmH', '_2xk1x']\n",
      "['_31jmH', '_2xk1x', '_3N-at']\n",
      "['_31jmH', '_2xk1x', '_1yupz']\n",
      "['_31jmH', '_2xk1x']\n",
      "['_31jmH', '_2xk1x', '_3N-at']\n",
      "['_31jmH', '_2xk1x', '_1yupz']\n",
      "['_31jmH', '_2xk1x']\n",
      "['_31jmH', '_2xk1x', '_3N-at']\n",
      "Integer Pattern: [1, 0, 2, 1, 0, 2, 1, 0, 2, 1, 0, 2]\n",
      "\n"
     ]
    }
   ],
   "source": [
    "strumPatterns = [] #will hold all strum patterns for song with 1=downstrum, 2=upstrum, 0=skip\n",
    "\n",
    "for pattern in patterns: #iterate through all strum patterns scraped\n",
    "    currentPattern = [] #will hold current pattern\n",
    "    count = 0\n",
    "    for child in pattern.children: #iterate through all strums within the pattern\n",
    "        className = child['class'] #get class name of the strum to determine if its upstrum, downstrum, or neither\n",
    "        \n",
    "        print(className) #print class name for debugging\n",
    "        \n",
    "        if '_1yupz' in className: #if it contains this string, it is an downstrum so append a 1\n",
    "            currentPattern.append(1)\n",
    "        elif '_3N-at' in className: #if it contains this string, it is an upstrum so append a 2\n",
    "            currentPattern.append(2)\n",
    "        else:   #if it contains this string, it is neither so append a 0\n",
    "            currentPattern.append(0)\n",
    "        \n",
    "    strumPatterns.append(currentPattern) #add current pattern to list of all patterns in song\n",
    "    print(\"Integer Pattern:\",currentPattern)\n",
    "    print()\n",
    "           "
   ]
  },
  {
   "cell_type": "code",
   "execution_count": 70,
   "metadata": {},
   "outputs": [
    {
     "name": "stdout",
     "output_type": "stream",
     "text": [
      "[[1 0 1 2 1 2 1 0 1 2 1 2]\n",
      " [1 0 0 1 0 2 1 0 0 1 0 2]\n",
      " [1 0 2 1 0 2 1 0 2 1 0 2]]\n"
     ]
    }
   ],
   "source": [
    "print(np.array(strumPatterns)) #should give 3x12 array because the song being tested has three strum patterns with 12 strums each"
   ]
  },
  {
   "cell_type": "code",
   "execution_count": null,
   "metadata": {},
   "outputs": [],
   "source": []
  }
 ],
 "metadata": {
  "kernelspec": {
   "display_name": "Python 3",
   "language": "python",
   "name": "python3"
  },
  "language_info": {
   "codemirror_mode": {
    "name": "ipython",
    "version": 3
   },
   "file_extension": ".py",
   "mimetype": "text/x-python",
   "name": "python",
   "nbconvert_exporter": "python",
   "pygments_lexer": "ipython3",
   "version": "3.8.3"
  }
 },
 "nbformat": 4,
 "nbformat_minor": 4
}
