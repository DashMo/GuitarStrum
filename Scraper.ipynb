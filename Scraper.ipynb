{
 "cells": [
  {
   "cell_type": "code",
   "execution_count": 1,
   "metadata": {},
   "outputs": [],
   "source": [
    "import requests\n",
    "from requests_html import HTMLSession\n",
    "from requests_html import AsyncHTMLSession\n",
    "from bs4 import BeautifulSoup\n",
    "import pprint\n",
    "\n",
    "URL = 'https://www.monster.com/jobs/search/?q=Software-Developer&where=Australia'\n",
    "# URL2 = 'https://tabs.ultimate-guitar.com/tab/misc-soundtrack/a-star-is-born-shallow-chords-2488086'\n",
    "# page = requests.get(URL2)\n",
    "\n",
    "# soup = BeautifulSoup(page.content, 'html.parser')\n",
    "# #pp.pprint(page.content)\n",
    "# #soup.body.contents\n",
    "# # for tag in soup.body.children:\n",
    "# #     print(tag.name)\n",
    "# #soup.find_all(class_=\"_2u0o0\")\n",
    "# x = soup.body\n",
    "# for check in x.contents:\n",
    "#     print(check,\"\\n\\n\")\n",
    "# #x.find_all(class_=\"_22Bzv\")\n",
    "# y = x.find_all(class_='js-page js-global-wrapper')[0]\n",
    "# y.find_all(\"div\")"
   ]
  },
  {
   "cell_type": "code",
   "execution_count": 2,
   "metadata": {},
   "outputs": [
    {
     "data": {
      "text/plain": [
       "[<div class=\"_31jmH _2xk1x _1yupz\"></div>,\n",
       " <div class=\"_31jmH _2xk1x\"></div>,\n",
       " <div class=\"_31jmH _2xk1x _1yupz\"></div>,\n",
       " <div class=\"_31jmH _2xk1x _3N-at\"></div>,\n",
       " <div class=\"_31jmH _2xk1x _1yupz\"></div>,\n",
       " <div class=\"_31jmH _2xk1x _3N-at\"></div>,\n",
       " <div class=\"_31jmH _2xk1x\"></div>,\n",
       " <div class=\"_31jmH _2xk1x _3N-at\"></div>,\n",
       " <div class=\"_31jmH _2xk1x\"></div>,\n",
       " <div class=\"_31jmH _2xk1x\"></div>,\n",
       " <div class=\"_31jmH _2xk1x\"></div>,\n",
       " <div class=\"_31jmH _2xk1x\"></div>,\n",
       " <div class=\"_31jmH _2xk1x\"></div>,\n",
       " <div class=\"_31jmH _2xk1x\"></div>,\n",
       " <div class=\"_31jmH _2xk1x\"></div>,\n",
       " <div class=\"_31jmH _2xk1x\"></div>,\n",
       " <div class=\"_31jmH _2xk1x _1yupz\"></div>,\n",
       " <div class=\"_31jmH _2xk1x\"></div>,\n",
       " <div class=\"_31jmH _2xk1x _1yupz\"></div>,\n",
       " <div class=\"_31jmH _2xk1x _3N-at\"></div>,\n",
       " <div class=\"_31jmH _2xk1x\"></div>,\n",
       " <div class=\"_31jmH _2xk1x _3N-at\"></div>,\n",
       " <div class=\"_31jmH _2xk1x _1yupz\"></div>,\n",
       " <div class=\"_31jmH _2xk1x _3N-at\"></div>,\n",
       " <div class=\"_31jmH _2xk1x _1yupz\"></div>,\n",
       " <div class=\"_31jmH _2xk1x _3N-at\"></div>,\n",
       " <div class=\"_31jmH _2xk1x\"></div>,\n",
       " <div class=\"_31jmH _2xk1x _3N-at\"></div>,\n",
       " <div class=\"_31jmH _2xk1x\"></div>,\n",
       " <div class=\"_31jmH _2xk1x _3N-at\"></div>,\n",
       " <div class=\"_31jmH _2xk1x _1yupz\"></div>,\n",
       " <div class=\"_31jmH _2xk1x _3N-at\"></div>]"
      ]
     },
     "execution_count": 2,
     "metadata": {},
     "output_type": "execute_result"
    }
   ],
   "source": [
    "# session = HTMLSession()\n",
    "# r = session.get('http://python-requests.org/')\n",
    "\n",
    "# r.html.render()\n",
    "\n",
    "asession = AsyncHTMLSession()\n",
    "r = await asession.get('https://tabs.ultimate-guitar.com/tab/misc-soundtrack/a-star-is-born-shallow-chords-2488086',timeout=20)\n",
    "#r.html.render(timeout=20)\n",
    "site = await r.html.arender()\n",
    "soup = BeautifulSoup(r.html.html, features='lxml')\n",
    "body = soup.find(class_='js-page js-global-wrapper')\n",
    "patterns = body.find_all(class_='_2u0o0')\n",
    "patterns[0].contents"
   ]
  },
  {
   "cell_type": "code",
   "execution_count": null,
   "metadata": {},
   "outputs": [],
   "source": []
  }
 ],
 "metadata": {
  "kernelspec": {
   "display_name": "Python 3",
   "language": "python",
   "name": "python3"
  },
  "language_info": {
   "codemirror_mode": {
    "name": "ipython",
    "version": 3
   },
   "file_extension": ".py",
   "mimetype": "text/x-python",
   "name": "python",
   "nbconvert_exporter": "python",
   "pygments_lexer": "ipython3",
   "version": "3.8.3"
  }
 },
 "nbformat": 4,
 "nbformat_minor": 4
}
